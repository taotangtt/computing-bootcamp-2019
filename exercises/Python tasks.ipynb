{
 "cells": [
  {
   "cell_type": "markdown",
   "metadata": {},
   "source": [
    "## Introduction\n",
    "\n",
    "The following tasks are from the slides `computing-bootcamp-python.html`. Recall some of the notebook shortcuts:\n",
    "\n",
    "\n",
    "In edit mode:\n",
    "\n",
    "- Run cell and add new cell: `shift + enter`\n",
    "- Add a line within a cell: `enter`\n",
    "\n",
    "In command mode:\n",
    "\n",
    "- Save the notebook: `s`\n",
    "- Change cell to markdown: `m`\n",
    "- Change cell to code: `y`\n",
    "- Cut, copy, paste, delete a cell: `x`, `c`, `v`, `d`\n",
    "- Add a cell above, below: `a`, `b`\n",
    "\n",
    "\n",
    "\n",
    "## Tasks\n",
    "\n",
    "### Task 1\n",
    "\n",
    "Create a variable and each of the four built-in data structures (list, tuple,\n",
    "dictionary, set). For each object use two methods and document in markdown the\n",
    "functionality of the two methods."
   ]
  },
  {
   "cell_type": "code",
   "execution_count": 6,
   "metadata": {
    "scrolled": true
   },
   "outputs": [
    {
     "data": {
      "text/plain": [
       "{'a': 1, 'b': 2, 'c': 3}"
      ]
     },
     "execution_count": 6,
     "metadata": {},
     "output_type": "execute_result"
    }
   ],
   "source": [
    "a={'a':1,'b':2,'c':3}\n",
    "a"
   ]
  },
  {
   "cell_type": "markdown",
   "metadata": {},
   "source": [
    "### Task 2\n",
    "\n",
    "Set `dilemma` to all lowercase. Then, reverse the order of the letters. Lastly,\n",
    "capitalize the first \"b\".\n",
    "\n",
    "*Hint*\n",
    "\n",
    "`dilemma[start:end:step]`. What does a negative index do?"
   ]
  },
  {
   "cell_type": "code",
   "execution_count": 7,
   "metadata": {
    "collapsed": true
   },
   "outputs": [],
   "source": [
    "dilemma = \"Borrow OR Rob\""
   ]
  },
  {
   "cell_type": "code",
   "execution_count": 13,
   "metadata": {},
   "outputs": [],
   "source": [
    "dilemma=dilemma.lower()\n",
    "dilemma=dilemma[::-1]"
   ]
  },
  {
   "cell_type": "markdown",
   "metadata": {},
   "source": [
    "### Task 3\n",
    "\n",
    "Write a function that takes a list and returns a new list with \n",
    "unique elements of the first list."
   ]
  },
  {
   "cell_type": "code",
   "execution_count": null,
   "metadata": {
    "collapsed": true
   },
   "outputs": [],
   "source": []
  },
  {
   "cell_type": "markdown",
   "metadata": {},
   "source": [
    "### Task 4\n",
    "\n",
    "Use function `is_prime()` to write another function that counts how many prime\n",
    "numbers there are less than or equal to a specified number."
   ]
  },
  {
   "cell_type": "code",
   "execution_count": 2,
   "metadata": {
    "collapsed": true
   },
   "outputs": [],
   "source": [
    "def is_prime(n):\n",
    "  \"\"\"\n",
    "  This function checks if a number is prime.\n",
    "  \n",
    "  n = positive integer\n",
    "  \n",
    "  Example:\n",
    "  \n",
    "  is_prime(2)\n",
    "  is_prime(16)\n",
    "  \n",
    "  \"\"\"\n",
    "  \n",
    "  if n < 3:\n",
    "    result = n - 1\n",
    "  else:\n",
    "    for i in range(2, n):\n",
    "      if (n % i) == 0:\n",
    "        result = False\n",
    "        break\n",
    "    else:\n",
    "      result = True\n",
    "      \n",
    "  return bool(result)"
   ]
  },
  {
   "cell_type": "code",
   "execution_count": 5,
   "metadata": {},
   "outputs": [
    {
     "data": {
      "text/plain": [
       "True"
      ]
     },
     "execution_count": 5,
     "metadata": {},
     "output_type": "execute_result"
    }
   ],
   "source": [
    "is_prime(13)"
   ]
  },
  {
   "cell_type": "code",
   "execution_count": 6,
   "metadata": {},
   "outputs": [
    {
     "data": {
      "text/plain": [
       "False"
      ]
     },
     "execution_count": 6,
     "metadata": {},
     "output_type": "execute_result"
    }
   ],
   "source": [
    "is_prime(22)"
   ]
  },
  {
   "cell_type": "code",
   "execution_count": null,
   "metadata": {
    "collapsed": true
   },
   "outputs": [],
   "source": []
  },
  {
   "cell_type": "markdown",
   "metadata": {},
   "source": [
    "### Task 5\n",
    "\n",
    "Create a histogram based off of random variables generated from a probability\n",
    "distribution of your choice."
   ]
  },
  {
   "cell_type": "code",
   "execution_count": null,
   "metadata": {
    "collapsed": true
   },
   "outputs": [],
   "source": []
  },
  {
   "cell_type": "markdown",
   "metadata": {},
   "source": [
    "### Task 6\n",
    "\n",
    "Plot 100 time steps of a simple symmetric random walk that starts at the value\n",
    "0."
   ]
  },
  {
   "cell_type": "code",
   "execution_count": null,
   "metadata": {
    "collapsed": true
   },
   "outputs": [],
   "source": []
  }
 ],
 "metadata": {
  "kernelspec": {
   "display_name": "Python 2",
   "language": "python",
   "name": "python2"
  },
  "language_info": {
   "codemirror_mode": {
    "name": "ipython",
    "version": 2
   },
   "file_extension": ".py",
   "mimetype": "text/x-python",
   "name": "python",
   "nbconvert_exporter": "python",
   "pygments_lexer": "ipython2",
   "version": "2.7.6"
  }
 },
 "nbformat": 4,
 "nbformat_minor": 2
}
